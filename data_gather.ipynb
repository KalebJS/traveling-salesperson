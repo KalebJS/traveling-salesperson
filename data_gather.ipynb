{
 "cells": [
  {
   "cell_type": "code",
   "execution_count": 20,
   "metadata": {
    "collapsed": true
   },
   "outputs": [],
   "source": [
    "import random\n",
    "\n",
    "import pandas as pd\n",
    "from PyQt5.QtCore import QPointF\n",
    "\n",
    "from TSPClasses import Scenario\n",
    "from TSPSolver import TSPSolver"
   ]
  },
  {
   "cell_type": "code",
   "execution_count": 21,
   "outputs": [],
   "source": [
    "data = []"
   ],
   "metadata": {
    "collapsed": false
   }
  },
  {
   "cell_type": "code",
   "execution_count": 22,
   "outputs": [],
   "source": [
    "for npoints in range(10, 51, 1):\n",
    "    seed = 1\n",
    "    random.seed(seed)\n",
    "    SCALE = 1.0\n",
    "    data_range = {\"x\": [-1.5 * SCALE, 1.5 * SCALE], \"y\": [-SCALE, SCALE]}\n",
    "    points = []\n",
    "    xr = data_range[\"x\"]\n",
    "    yr = data_range[\"y\"]\n",
    "    while len(points) < npoints:\n",
    "        x = random.uniform(0.0, 1.0)\n",
    "        y = random.uniform(0.0, 1.0)\n",
    "        xval = xr[0] + (xr[1] - xr[0]) * x\n",
    "        yval = yr[0] + (yr[1] - yr[0]) * y\n",
    "        points.append(QPointF(xval, yval))\n",
    "\n",
    "    diff = \"Hard\"\n",
    "\n",
    "    scenario = Scenario(city_locations=points, difficulty=diff, rand_seed=seed)\n",
    "    solver = TSPSolver(None)\n",
    "    solver.setupWithScenario(scenario)\n",
    "    result = solver.branch_and_bound(60)\n",
    "    data.append({\n",
    "        \"# Cities\": npoints,\n",
    "        \"Seed\": seed,\n",
    "        \"Running time (sec.)\": result[\"time\"],\n",
    "        \"Cost of best tour found (*=optimal)\": result[\"cost\"],\n",
    "        \"Max # of stored states at a given time\": result[\"max\"],\n",
    "        \"# of BSSF updates\": result[\"count\"],\n",
    "        \"Total # of states created\": result[\"total\"],\n",
    "        \"Total # of states pruned\": result[\"pruned\"]\n",
    "    })"
   ],
   "metadata": {
    "collapsed": false
   }
  },
  {
   "cell_type": "code",
   "execution_count": 23,
   "outputs": [
    {
     "data": {
      "text/plain": "    # Cities  Seed  Running time (sec.)  Cost of best tour found (*=optimal)  \\\n0         10     1             0.069071                                 8781   \n1         11     1             0.692488                                 9348   \n2         12     1             0.071879                                10085   \n3         13     1             0.377292                                 9937   \n4         14     1             1.323232                                 9635   \n5         15     1             0.590728                                 9211   \n6         16     1             5.636322                                10431   \n7         17     1            12.875627                                10938   \n8         18     1            60.000219                                11023   \n9         19     1            60.000420                                12209   \n10        20     1            60.000077                                11179   \n11        21     1            60.000734                                14092   \n12        22     1            60.001340                                13228   \n13        23     1            60.000459                                15613   \n14        24     1            60.000398                                14993   \n15        25     1            60.000864                                14040   \n16        26     1            60.001637                                14172   \n17        27     1            60.001087                                16338   \n18        28     1            60.000825                                16496   \n19        29     1            60.000988                                17698   \n20        30     1            60.000930                                16337   \n21        31     1            60.000295                                18283   \n22        32     1            60.000047                                17531   \n23        33     1            60.001597                                19299   \n24        34     1            60.001211                                22309   \n25        35     1            60.001763                                21995   \n26        36     1            60.000710                                22099   \n27        37     1            60.001746                                19290   \n28        38     1            60.001799                                22148   \n29        39     1            60.002115                                18986   \n30        40     1            60.001697                                21045   \n31        41     1            60.003840                                19981   \n32        42     1            60.004127                                22225   \n33        43     1            60.001490                                22151   \n34        44     1            60.003837                                21476   \n35        45     1            60.000000                                23842   \n36        46     1            60.004082                                24344   \n37        47     1            60.002950                                24739   \n38        48     1            60.002458                                23349   \n39        49     1            60.005009                                24387   \n40        50     1            60.006205                                25505   \n\n    Max # of stored states at a given time  # of BSSF updates  \\\n0                                       28                  6   \n1                                       36               1180   \n2                                       43                  7   \n3                                       44                  5   \n4                                       58                  9   \n5                                       67                  3   \n6                                       86                 29   \n7                                       96                 26   \n8                                      104                 22   \n9                                      120                 17   \n10                                     135                 26   \n11                                     152                 10   \n12                                     157                 15   \n13                                     175                  4   \n14                                     201                  5   \n15                                     195                  0   \n16                                     210                  0   \n17                                     250                  6   \n18                                     261                  0   \n19                                     278                  0   \n20                                     286                  0   \n21                                     331                  0   \n22                                     358                  0   \n23                                     361                  0   \n24                                     394                  1   \n25                                     411                  0   \n26                                     410                  0   \n27                                     432                  0   \n28                                     450                  0   \n29                                     414                  0   \n30                                     444                  0   \n31                                     419                  0   \n32                                     479                  0   \n33                                     522                  0   \n34                                     515                  0   \n35                                     629                  0   \n36                                     619                  0   \n37                                     648                  0   \n38                                     700                  0   \n39                                     653                  0   \n40                                     661                  0   \n\n    Total # of states created  Total # of states pruned  \n0                         929                       734  \n1                       13652                      7842  \n2                        1235                      1010  \n3                        5974                      5075  \n4                       20006                     17018  \n5                        8292                      7247  \n6                       78159                     67530  \n7                      166008                    146020  \n8                      734262                    651632  \n9                      696299                    623500  \n10                     662412                    595802  \n11                     634944                    574017  \n12                     598777                    546878  \n13                     577657                    529499  \n14                     546846                    504556  \n15                     515750                    481876  \n16                     497701                    465322  \n17                     502856                    461684  \n18                     480712                    446526  \n19                     458909                    430168  \n20                     448065                    419507  \n21                     434920                    407474  \n22                     415088                    392168  \n23                     410692                    386337  \n24                     402320                    377388  \n25                     382273                    362173  \n26                     376217                    356066  \n27                     357981                    341236  \n28                     349604                    333489  \n29                     326606                    314165  \n30                     320638                    308448  \n31                     307627                    296838  \n32                     305294                    294284  \n33                     299647                    288727  \n34                     283189                    273448  \n35                     284815                    274086  \n36                     280499                    270595  \n37                     278101                    267664  \n38                     269090                    259824  \n39                     260302                    252098  \n40                     259115                    250554  ",
      "text/html": "<div>\n<style scoped>\n    .dataframe tbody tr th:only-of-type {\n        vertical-align: middle;\n    }\n\n    .dataframe tbody tr th {\n        vertical-align: top;\n    }\n\n    .dataframe thead th {\n        text-align: right;\n    }\n</style>\n<table border=\"1\" class=\"dataframe\">\n  <thead>\n    <tr style=\"text-align: right;\">\n      <th></th>\n      <th># Cities</th>\n      <th>Seed</th>\n      <th>Running time (sec.)</th>\n      <th>Cost of best tour found (*=optimal)</th>\n      <th>Max # of stored states at a given time</th>\n      <th># of BSSF updates</th>\n      <th>Total # of states created</th>\n      <th>Total # of states pruned</th>\n    </tr>\n  </thead>\n  <tbody>\n    <tr>\n      <th>0</th>\n      <td>10</td>\n      <td>1</td>\n      <td>0.069071</td>\n      <td>8781</td>\n      <td>28</td>\n      <td>6</td>\n      <td>929</td>\n      <td>734</td>\n    </tr>\n    <tr>\n      <th>1</th>\n      <td>11</td>\n      <td>1</td>\n      <td>0.692488</td>\n      <td>9348</td>\n      <td>36</td>\n      <td>1180</td>\n      <td>13652</td>\n      <td>7842</td>\n    </tr>\n    <tr>\n      <th>2</th>\n      <td>12</td>\n      <td>1</td>\n      <td>0.071879</td>\n      <td>10085</td>\n      <td>43</td>\n      <td>7</td>\n      <td>1235</td>\n      <td>1010</td>\n    </tr>\n    <tr>\n      <th>3</th>\n      <td>13</td>\n      <td>1</td>\n      <td>0.377292</td>\n      <td>9937</td>\n      <td>44</td>\n      <td>5</td>\n      <td>5974</td>\n      <td>5075</td>\n    </tr>\n    <tr>\n      <th>4</th>\n      <td>14</td>\n      <td>1</td>\n      <td>1.323232</td>\n      <td>9635</td>\n      <td>58</td>\n      <td>9</td>\n      <td>20006</td>\n      <td>17018</td>\n    </tr>\n    <tr>\n      <th>5</th>\n      <td>15</td>\n      <td>1</td>\n      <td>0.590728</td>\n      <td>9211</td>\n      <td>67</td>\n      <td>3</td>\n      <td>8292</td>\n      <td>7247</td>\n    </tr>\n    <tr>\n      <th>6</th>\n      <td>16</td>\n      <td>1</td>\n      <td>5.636322</td>\n      <td>10431</td>\n      <td>86</td>\n      <td>29</td>\n      <td>78159</td>\n      <td>67530</td>\n    </tr>\n    <tr>\n      <th>7</th>\n      <td>17</td>\n      <td>1</td>\n      <td>12.875627</td>\n      <td>10938</td>\n      <td>96</td>\n      <td>26</td>\n      <td>166008</td>\n      <td>146020</td>\n    </tr>\n    <tr>\n      <th>8</th>\n      <td>18</td>\n      <td>1</td>\n      <td>60.000219</td>\n      <td>11023</td>\n      <td>104</td>\n      <td>22</td>\n      <td>734262</td>\n      <td>651632</td>\n    </tr>\n    <tr>\n      <th>9</th>\n      <td>19</td>\n      <td>1</td>\n      <td>60.000420</td>\n      <td>12209</td>\n      <td>120</td>\n      <td>17</td>\n      <td>696299</td>\n      <td>623500</td>\n    </tr>\n    <tr>\n      <th>10</th>\n      <td>20</td>\n      <td>1</td>\n      <td>60.000077</td>\n      <td>11179</td>\n      <td>135</td>\n      <td>26</td>\n      <td>662412</td>\n      <td>595802</td>\n    </tr>\n    <tr>\n      <th>11</th>\n      <td>21</td>\n      <td>1</td>\n      <td>60.000734</td>\n      <td>14092</td>\n      <td>152</td>\n      <td>10</td>\n      <td>634944</td>\n      <td>574017</td>\n    </tr>\n    <tr>\n      <th>12</th>\n      <td>22</td>\n      <td>1</td>\n      <td>60.001340</td>\n      <td>13228</td>\n      <td>157</td>\n      <td>15</td>\n      <td>598777</td>\n      <td>546878</td>\n    </tr>\n    <tr>\n      <th>13</th>\n      <td>23</td>\n      <td>1</td>\n      <td>60.000459</td>\n      <td>15613</td>\n      <td>175</td>\n      <td>4</td>\n      <td>577657</td>\n      <td>529499</td>\n    </tr>\n    <tr>\n      <th>14</th>\n      <td>24</td>\n      <td>1</td>\n      <td>60.000398</td>\n      <td>14993</td>\n      <td>201</td>\n      <td>5</td>\n      <td>546846</td>\n      <td>504556</td>\n    </tr>\n    <tr>\n      <th>15</th>\n      <td>25</td>\n      <td>1</td>\n      <td>60.000864</td>\n      <td>14040</td>\n      <td>195</td>\n      <td>0</td>\n      <td>515750</td>\n      <td>481876</td>\n    </tr>\n    <tr>\n      <th>16</th>\n      <td>26</td>\n      <td>1</td>\n      <td>60.001637</td>\n      <td>14172</td>\n      <td>210</td>\n      <td>0</td>\n      <td>497701</td>\n      <td>465322</td>\n    </tr>\n    <tr>\n      <th>17</th>\n      <td>27</td>\n      <td>1</td>\n      <td>60.001087</td>\n      <td>16338</td>\n      <td>250</td>\n      <td>6</td>\n      <td>502856</td>\n      <td>461684</td>\n    </tr>\n    <tr>\n      <th>18</th>\n      <td>28</td>\n      <td>1</td>\n      <td>60.000825</td>\n      <td>16496</td>\n      <td>261</td>\n      <td>0</td>\n      <td>480712</td>\n      <td>446526</td>\n    </tr>\n    <tr>\n      <th>19</th>\n      <td>29</td>\n      <td>1</td>\n      <td>60.000988</td>\n      <td>17698</td>\n      <td>278</td>\n      <td>0</td>\n      <td>458909</td>\n      <td>430168</td>\n    </tr>\n    <tr>\n      <th>20</th>\n      <td>30</td>\n      <td>1</td>\n      <td>60.000930</td>\n      <td>16337</td>\n      <td>286</td>\n      <td>0</td>\n      <td>448065</td>\n      <td>419507</td>\n    </tr>\n    <tr>\n      <th>21</th>\n      <td>31</td>\n      <td>1</td>\n      <td>60.000295</td>\n      <td>18283</td>\n      <td>331</td>\n      <td>0</td>\n      <td>434920</td>\n      <td>407474</td>\n    </tr>\n    <tr>\n      <th>22</th>\n      <td>32</td>\n      <td>1</td>\n      <td>60.000047</td>\n      <td>17531</td>\n      <td>358</td>\n      <td>0</td>\n      <td>415088</td>\n      <td>392168</td>\n    </tr>\n    <tr>\n      <th>23</th>\n      <td>33</td>\n      <td>1</td>\n      <td>60.001597</td>\n      <td>19299</td>\n      <td>361</td>\n      <td>0</td>\n      <td>410692</td>\n      <td>386337</td>\n    </tr>\n    <tr>\n      <th>24</th>\n      <td>34</td>\n      <td>1</td>\n      <td>60.001211</td>\n      <td>22309</td>\n      <td>394</td>\n      <td>1</td>\n      <td>402320</td>\n      <td>377388</td>\n    </tr>\n    <tr>\n      <th>25</th>\n      <td>35</td>\n      <td>1</td>\n      <td>60.001763</td>\n      <td>21995</td>\n      <td>411</td>\n      <td>0</td>\n      <td>382273</td>\n      <td>362173</td>\n    </tr>\n    <tr>\n      <th>26</th>\n      <td>36</td>\n      <td>1</td>\n      <td>60.000710</td>\n      <td>22099</td>\n      <td>410</td>\n      <td>0</td>\n      <td>376217</td>\n      <td>356066</td>\n    </tr>\n    <tr>\n      <th>27</th>\n      <td>37</td>\n      <td>1</td>\n      <td>60.001746</td>\n      <td>19290</td>\n      <td>432</td>\n      <td>0</td>\n      <td>357981</td>\n      <td>341236</td>\n    </tr>\n    <tr>\n      <th>28</th>\n      <td>38</td>\n      <td>1</td>\n      <td>60.001799</td>\n      <td>22148</td>\n      <td>450</td>\n      <td>0</td>\n      <td>349604</td>\n      <td>333489</td>\n    </tr>\n    <tr>\n      <th>29</th>\n      <td>39</td>\n      <td>1</td>\n      <td>60.002115</td>\n      <td>18986</td>\n      <td>414</td>\n      <td>0</td>\n      <td>326606</td>\n      <td>314165</td>\n    </tr>\n    <tr>\n      <th>30</th>\n      <td>40</td>\n      <td>1</td>\n      <td>60.001697</td>\n      <td>21045</td>\n      <td>444</td>\n      <td>0</td>\n      <td>320638</td>\n      <td>308448</td>\n    </tr>\n    <tr>\n      <th>31</th>\n      <td>41</td>\n      <td>1</td>\n      <td>60.003840</td>\n      <td>19981</td>\n      <td>419</td>\n      <td>0</td>\n      <td>307627</td>\n      <td>296838</td>\n    </tr>\n    <tr>\n      <th>32</th>\n      <td>42</td>\n      <td>1</td>\n      <td>60.004127</td>\n      <td>22225</td>\n      <td>479</td>\n      <td>0</td>\n      <td>305294</td>\n      <td>294284</td>\n    </tr>\n    <tr>\n      <th>33</th>\n      <td>43</td>\n      <td>1</td>\n      <td>60.001490</td>\n      <td>22151</td>\n      <td>522</td>\n      <td>0</td>\n      <td>299647</td>\n      <td>288727</td>\n    </tr>\n    <tr>\n      <th>34</th>\n      <td>44</td>\n      <td>1</td>\n      <td>60.003837</td>\n      <td>21476</td>\n      <td>515</td>\n      <td>0</td>\n      <td>283189</td>\n      <td>273448</td>\n    </tr>\n    <tr>\n      <th>35</th>\n      <td>45</td>\n      <td>1</td>\n      <td>60.000000</td>\n      <td>23842</td>\n      <td>629</td>\n      <td>0</td>\n      <td>284815</td>\n      <td>274086</td>\n    </tr>\n    <tr>\n      <th>36</th>\n      <td>46</td>\n      <td>1</td>\n      <td>60.004082</td>\n      <td>24344</td>\n      <td>619</td>\n      <td>0</td>\n      <td>280499</td>\n      <td>270595</td>\n    </tr>\n    <tr>\n      <th>37</th>\n      <td>47</td>\n      <td>1</td>\n      <td>60.002950</td>\n      <td>24739</td>\n      <td>648</td>\n      <td>0</td>\n      <td>278101</td>\n      <td>267664</td>\n    </tr>\n    <tr>\n      <th>38</th>\n      <td>48</td>\n      <td>1</td>\n      <td>60.002458</td>\n      <td>23349</td>\n      <td>700</td>\n      <td>0</td>\n      <td>269090</td>\n      <td>259824</td>\n    </tr>\n    <tr>\n      <th>39</th>\n      <td>49</td>\n      <td>1</td>\n      <td>60.005009</td>\n      <td>24387</td>\n      <td>653</td>\n      <td>0</td>\n      <td>260302</td>\n      <td>252098</td>\n    </tr>\n    <tr>\n      <th>40</th>\n      <td>50</td>\n      <td>1</td>\n      <td>60.006205</td>\n      <td>25505</td>\n      <td>661</td>\n      <td>0</td>\n      <td>259115</td>\n      <td>250554</td>\n    </tr>\n  </tbody>\n</table>\n</div>"
     },
     "execution_count": 23,
     "metadata": {},
     "output_type": "execute_result"
    }
   ],
   "source": [
    "df = pd.DataFrame(data)\n",
    "\n",
    "df"
   ],
   "metadata": {
    "collapsed": false
   }
  },
  {
   "cell_type": "code",
   "execution_count": 24,
   "outputs": [],
   "source": [
    "df.to_csv(path_or_buf=\"./data_large.csv\", index=False)"
   ],
   "metadata": {
    "collapsed": false
   }
  }
 ],
 "metadata": {
  "kernelspec": {
   "display_name": "Python 3",
   "language": "python",
   "name": "python3"
  },
  "language_info": {
   "codemirror_mode": {
    "name": "ipython",
    "version": 2
   },
   "file_extension": ".py",
   "mimetype": "text/x-python",
   "name": "python",
   "nbconvert_exporter": "python",
   "pygments_lexer": "ipython2",
   "version": "2.7.6"
  }
 },
 "nbformat": 4,
 "nbformat_minor": 0
}
