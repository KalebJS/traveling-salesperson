{
 "cells": [
  {
   "cell_type": "code",
   "execution_count": 1,
   "metadata": {
    "collapsed": true
   },
   "outputs": [],
   "source": [
    "import random\n",
    "\n",
    "import pandas as pd\n",
    "from PyQt5.QtCore import QPointF\n",
    "\n",
    "from TSPClasses import Scenario\n",
    "from TSPSolver import TSPSolver"
   ]
  },
  {
   "cell_type": "code",
   "execution_count": null,
   "outputs": [],
   "source": [
    "data = []"
   ],
   "metadata": {
    "collapsed": false
   }
  },
  {
   "cell_type": "code",
   "execution_count": 3,
   "outputs": [
    {
     "name": "stdout",
     "output_type": "stream",
     "text": [
      "Time taken: 60.01448702812195\n",
      "Time taken: 60.0330491065979\n",
      "Time taken: 60.10735321044922\n",
      "Time taken: 60.01673865318298\n",
      "Time taken: 60.12009406089783\n",
      "Time taken: 60.164857149124146\n",
      "Time taken: 60.00038003921509\n",
      "Time taken: 60.051937103271484\n",
      "Time taken: 60.114508867263794\n",
      "Time taken: 60.02162575721741\n",
      "Time taken: 60.141067028045654\n",
      "Time taken: 60.14534306526184\n",
      "Time taken: 60.20578598976135\n",
      "Time taken: 60.003417015075684\n",
      "Time taken: 60.01794195175171\n",
      "Time taken: 60.22578477859497\n",
      "Time taken: 60.059563636779785\n",
      "Time taken: 60.16221809387207\n",
      "Time taken: 60.02105212211609\n",
      "Time taken: 60.122676849365234\n",
      "Time taken: 60.122588872909546\n",
      "Time taken: 60.39424180984497\n",
      "Unexpected exception formatting exception. Falling back to standard exception\n"
     ]
    },
    {
     "name": "stderr",
     "output_type": "stream",
     "text": [
      "Traceback (most recent call last):\n",
      "  File \"/opt/homebrew/lib/python3.9/site-packages/IPython/core/interactiveshell.py\", line 3398, in run_code\n",
      "    exec(code_obj, self.user_global_ns, self.user_ns)\n",
      "  File \"/var/folders/rt/54h9g68172s471sd54b6bs2m0000gn/T/ipykernel_36060/2600049267.py\", line 21, in <cell line: 1>\n",
      "    result = solver.fancy(60)\n",
      "  File \"/Users/kalebsmith/holicloud/school/cs312/traveling-salesperson/TSPSolver.py\", line 240, in fancy\n",
      "    child = mutate(individual)\n",
      "  File \"/Users/kalebsmith/holicloud/school/cs312/traveling-salesperson/genetic_algorithm.py\", line 33, in mutate\n",
      "  File \"/Users/kalebsmith/holicloud/school/cs312/traveling-salesperson/TSPClasses.py\", line 13, in __init__\n",
      "    self.cost = self._costOfRoute()\n",
      "  File \"/Users/kalebsmith/holicloud/school/cs312/traveling-salesperson/TSPClasses.py\", line 20, in _costOfRoute\n",
      "    cost += last.costTo(city)\n",
      "  File \"/Users/kalebsmith/holicloud/school/cs312/traveling-salesperson/TSPClasses.py\", line 159, in costTo\n",
      "    return int(math.ceil(cost * self.MAP_SCALE))\n",
      "KeyboardInterrupt\n",
      "\n",
      "During handling of the above exception, another exception occurred:\n",
      "\n",
      "Traceback (most recent call last):\n",
      "  File \"/opt/homebrew/lib/python3.9/site-packages/IPython/core/interactiveshell.py\", line 1993, in showtraceback\n",
      "    stb = self.InteractiveTB.structured_traceback(\n",
      "  File \"/opt/homebrew/lib/python3.9/site-packages/IPython/core/ultratb.py\", line 1118, in structured_traceback\n",
      "    return FormattedTB.structured_traceback(\n",
      "  File \"/opt/homebrew/lib/python3.9/site-packages/IPython/core/ultratb.py\", line 1012, in structured_traceback\n",
      "    return VerboseTB.structured_traceback(\n",
      "  File \"/opt/homebrew/lib/python3.9/site-packages/IPython/core/ultratb.py\", line 865, in structured_traceback\n",
      "    formatted_exception = self.format_exception_as_a_whole(etype, evalue, etb, number_of_lines_of_context,\n",
      "  File \"/opt/homebrew/lib/python3.9/site-packages/IPython/core/ultratb.py\", line 818, in format_exception_as_a_whole\n",
      "    frames.append(self.format_record(r))\n",
      "  File \"/opt/homebrew/lib/python3.9/site-packages/IPython/core/ultratb.py\", line 736, in format_record\n",
      "    result += ''.join(_format_traceback_lines(frame_info.lines, Colors, self.has_colors, lvals))\n",
      "  File \"/opt/homebrew/lib/python3.9/site-packages/stack_data/utils.py\", line 145, in cached_property_wrapper\n",
      "    value = obj.__dict__[self.func.__name__] = self.func(obj)\n",
      "  File \"/opt/homebrew/lib/python3.9/site-packages/stack_data/core.py\", line 734, in lines\n",
      "    pieces = self.included_pieces\n",
      "  File \"/opt/homebrew/lib/python3.9/site-packages/stack_data/utils.py\", line 145, in cached_property_wrapper\n",
      "    value = obj.__dict__[self.func.__name__] = self.func(obj)\n",
      "  File \"/opt/homebrew/lib/python3.9/site-packages/stack_data/core.py\", line 681, in included_pieces\n",
      "    pos = scope_pieces.index(self.executing_piece)\n",
      "  File \"/opt/homebrew/lib/python3.9/site-packages/stack_data/utils.py\", line 145, in cached_property_wrapper\n",
      "    value = obj.__dict__[self.func.__name__] = self.func(obj)\n",
      "  File \"/opt/homebrew/lib/python3.9/site-packages/stack_data/core.py\", line 660, in executing_piece\n",
      "    return only(\n",
      "  File \"/opt/homebrew/lib/python3.9/site-packages/executing/executing.py\", line 164, in only\n",
      "    raise NotOneValueFound('Expected one value, found 0')\n",
      "executing.executing.NotOneValueFound: Expected one value, found 0\n"
     ]
    }
   ],
   "source": [
    "for npoints in range(10, 51, 1):\n",
    "    seed = 1\n",
    "    random.seed(seed)\n",
    "    SCALE = 1.0\n",
    "    data_range = {\"x\": [-1.5 * SCALE, 1.5 * SCALE], \"y\": [-SCALE, SCALE]}\n",
    "    points = []\n",
    "    xr = data_range[\"x\"]\n",
    "    yr = data_range[\"y\"]\n",
    "    while len(points) < npoints:\n",
    "        x = random.uniform(0.0, 1.0)\n",
    "        y = random.uniform(0.0, 1.0)\n",
    "        xval = xr[0] + (xr[1] - xr[0]) * x\n",
    "        yval = yr[0] + (yr[1] - yr[0]) * y\n",
    "        points.append(QPointF(xval, yval))\n",
    "\n",
    "    diff = \"Hard\"\n",
    "\n",
    "    scenario = Scenario(city_locations=points, difficulty=diff, rand_seed=seed)\n",
    "    solver = TSPSolver(None)\n",
    "    solver.setupWithScenario(scenario)\n",
    "    result = solver.fancy(60)\n",
    "    data.append({\n",
    "        \"# Cities\": npoints,\n",
    "        \"Seed\": seed,\n",
    "        \"Running time (sec.)\": result[\"time\"],\n",
    "        \"Cost of best tour found (*=optimal)\": result[\"cost\"],\n",
    "        \"Max # of stored states at a given time\": result[\"max\"],\n",
    "        \"# of BSSF updates\": result[\"count\"],\n",
    "        \"Total # of states created\": result[\"total\"],\n",
    "        \"Total # of states pruned\": result[\"pruned\"]\n",
    "    })"
   ],
   "metadata": {
    "collapsed": false
   }
  },
  {
   "cell_type": "code",
   "execution_count": null,
   "outputs": [],
   "source": [
    "df = pd.DataFrame(data)\n",
    "\n",
    "df"
   ],
   "metadata": {
    "collapsed": false
   }
  },
  {
   "cell_type": "code",
   "execution_count": null,
   "outputs": [],
   "source": [
    "df.to_csv(path_or_buf=\"./data_large.csv\", index=False)"
   ],
   "metadata": {
    "collapsed": false
   }
  }
 ],
 "metadata": {
  "kernelspec": {
   "display_name": "Python 3",
   "language": "python",
   "name": "python3"
  },
  "language_info": {
   "codemirror_mode": {
    "name": "ipython",
    "version": 2
   },
   "file_extension": ".py",
   "mimetype": "text/x-python",
   "name": "python",
   "nbconvert_exporter": "python",
   "pygments_lexer": "ipython2",
   "version": "2.7.6"
  }
 },
 "nbformat": 4,
 "nbformat_minor": 0
}
